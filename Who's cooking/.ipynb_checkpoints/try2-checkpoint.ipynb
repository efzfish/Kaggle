{
 "cells": [
  {
   "cell_type": "code",
   "execution_count": 1,
   "metadata": {
    "collapsed": false
   },
   "outputs": [
    {
     "name": "stdout",
     "output_type": "stream",
     "text": [
      "Populating the interactive namespace from numpy and matplotlib\n"
     ]
    }
   ],
   "source": [
    "from __future__ import division\n",
    "%pylab inline\n",
    "import numpy as np\n",
    "#import pylab as pl\n",
    "import pandas as pd\n",
    "import json\n",
    "import csv"
   ]
  },
  {
   "cell_type": "code",
   "execution_count": 2,
   "metadata": {
    "collapsed": true
   },
   "outputs": [],
   "source": [
    "jsonFile = open('train.json', 'r')\n",
    "data = json.load(jsonFile)"
   ]
  },
  {
   "cell_type": "code",
   "execution_count": 3,
   "metadata": {
    "collapsed": false
   },
   "outputs": [
    {
     "name": "stdout",
     "output_type": "stream",
     "text": [
      "39774\n"
     ]
    }
   ],
   "source": [
    "totlen = len(data)\n",
    "print totlen"
   ]
  },
  {
   "cell_type": "code",
   "execution_count": 4,
   "metadata": {
    "collapsed": false
   },
   "outputs": [
    {
     "name": "stdout",
     "output_type": "stream",
     "text": [
      "6714\n"
     ]
    }
   ],
   "source": [
    "ingrlist = []\n",
    "for i in range(totlen):\n",
    "    for j in range(len(data[i]['ingredients'])):\n",
    "        ingrlist.append(data[i]['ingredients'][j].encode('utf-8'))\n",
    "        \n",
    "ingr = list(set(ingrlist))\n",
    "print len(ingr)"
   ]
  },
  {
   "cell_type": "code",
   "execution_count": 5,
   "metadata": {
    "collapsed": false
   },
   "outputs": [
    {
     "name": "stdout",
     "output_type": "stream",
     "text": [
      "20\n"
     ]
    }
   ],
   "source": [
    "cuislist = []\n",
    "for i in range(totlen):\n",
    "    cuislist.append(data[i]['cuisine'])\n",
    "\n",
    "cuis = list(set(cuislist))    \n",
    "print len(cuis)"
   ]
  },
  {
   "cell_type": "code",
   "execution_count": 6,
   "metadata": {
    "collapsed": false
   },
   "outputs": [
    {
     "name": "stdout",
     "output_type": "stream",
     "text": [
      "{u'irish': 667, u'mexican': 6438, u'chinese': 2673, u'filipino': 755, u'vietnamese': 825, u'spanish': 989, u'japanese': 1423, u'moroccan': 821, u'french': 2646, u'greek': 1175, u'indian': 3003, u'jamaican': 526, u'british': 804, u'brazilian': 467, u'russian': 489, u'cajun_creole': 1546, u'thai': 1539, u'southern_us': 4320, u'korean': 830, u'italian': 7838}\n"
     ]
    }
   ],
   "source": [
    "d = {}\n",
    "for i in cuis:\n",
    "    d[i] = 0\n",
    "\n",
    "for i in range(totlen):\n",
    "    d[data[i]['cuisine']] += 1\n",
    "print d"
   ]
  },
  {
   "cell_type": "code",
   "execution_count": 7,
   "metadata": {
    "collapsed": true
   },
   "outputs": [],
   "source": [
    "mat = {}\n",
    "for i in cuis:\n",
    "    for j in ingr:\n",
    "        mat[(i,j)] = 0\n",
    "\n",
    "for i in range(totlen):\n",
    "    for j in range(len((data[i]['ingredients']))):\n",
    "        mat[(data[i]['cuisine'],data[i]['ingredients'][j].encode('utf-8'))] += 1"
   ]
  },
  {
   "cell_type": "code",
   "execution_count": 8,
   "metadata": {
    "collapsed": true
   },
   "outputs": [],
   "source": [
    "a = 'purée'"
   ]
  },
  {
   "cell_type": "code",
   "execution_count": 9,
   "metadata": {
    "collapsed": false
   },
   "outputs": [
    {
     "name": "stdout",
     "output_type": "stream",
     "text": [
      "irish cuisine use yogurt"
     ]
    },
    {
     "ename": "KeyError",
     "evalue": "(u'irish', 'yogurt')",
     "output_type": "error",
     "traceback": [
      "\u001b[0;31m---------------------------------------------------------------------------\u001b[0m",
      "\u001b[0;31mKeyError\u001b[0m                                  Traceback (most recent call last)",
      "\u001b[0;32m<ipython-input-9-6ddd9a80cd3a>\u001b[0m in \u001b[0;36m<module>\u001b[0;34m()\u001b[0m\n\u001b[1;32m      1\u001b[0m \u001b[0;32mfor\u001b[0m \u001b[0mi\u001b[0m \u001b[0;32min\u001b[0m \u001b[0mcuis\u001b[0m\u001b[0;34m:\u001b[0m\u001b[0;34m\u001b[0m\u001b[0m\n\u001b[0;32m----> 2\u001b[0;31m     \u001b[0;32mprint\u001b[0m \u001b[0mi\u001b[0m\u001b[0;34m,\u001b[0m \u001b[0;34m'cuisine use yogurt'\u001b[0m\u001b[0;34m,\u001b[0m \u001b[0mmat\u001b[0m\u001b[0;34m[\u001b[0m\u001b[0;34m(\u001b[0m\u001b[0mi\u001b[0m\u001b[0;34m,\u001b[0m\u001b[0;34m'yogurt'\u001b[0m\u001b[0;34m)\u001b[0m\u001b[0;34m]\u001b[0m\u001b[0;34m,\u001b[0m \u001b[0;34m'times out of'\u001b[0m\u001b[0;34m,\u001b[0m \u001b[0md\u001b[0m\u001b[0;34m[\u001b[0m\u001b[0mi\u001b[0m\u001b[0;34m]\u001b[0m\u001b[0;34m\u001b[0m\u001b[0m\n\u001b[0m",
      "\u001b[0;31mKeyError\u001b[0m: (u'irish', 'yogurt')"
     ]
    }
   ],
   "source": [
    "for i in cuis:\n",
    "    print i, 'cuisine use yogurt', mat[(i,'yogurt')], 'times out of', d[i]"
   ]
  },
  {
   "cell_type": "code",
   "execution_count": 10,
   "metadata": {
    "collapsed": false
   },
   "outputs": [
    {
     "name": "stdout",
     "output_type": "stream",
     "text": [
      " jamaican\n"
     ]
    },
    {
     "data": {
      "text/plain": [
       "[(u'british', -29.796124523712724),\n",
       " (u'irish', -28.197689854857398),\n",
       " (u'japanese', -21.580368847545479),\n",
       " (u'thai', -20.508355874773436),\n",
       " (u'chinese', -20.320307604976588),\n",
       " (u'korean', -20.264494364345957),\n",
       " (u'vietnamese', -19.929548486134596),\n",
       " (u'russian', -19.901058078909134),\n",
       " (u'southern_us', -18.887528680024907),\n",
       " (u'french', -18.849593617707001),\n",
       " (u'italian', -18.462357040522207),\n",
       " (u'mexican', -16.942203161698259),\n",
       " (u'greek', -16.670530498329622),\n",
       " (u'brazilian', -16.662680273133397),\n",
       " (u'filipino', -16.246592408250422),\n",
       " (u'indian', -16.027850137573356),\n",
       " (u'spanish', -15.784699134741707),\n",
       " (u'moroccan', -15.44563649735549),\n",
       " (u'cajun_creole', -14.467011427502412),\n",
       " (u'jamaican', -14.310165052171715)]"
      ]
     },
     "execution_count": 10,
     "metadata": {},
     "output_type": "execute_result"
    }
   ],
   "source": [
    "tmpd = {}\n",
    "for i in cuis:\n",
    "    tmpd[i] = 0\n",
    "    for j in ['chicken','rice','salt','olive oil','pepper','butter','garlic cloves']:\n",
    "        if j in ingr:\n",
    "            tmpd[i] += np.log(mat[(i,j)] + 0.001) - np.log(d[i])\n",
    "\n",
    "        #tmpd[i] = tmpd[i] / rarity[i]\n",
    "        #tmpd[i] = tmpd[i] / d[i]\n",
    "    \n",
    "sorted_tmpd = [(k,v) for v,k in sorted([(v,k) for k,v in tmpd.items()])]\n",
    "sltds = sorted_tmpd[-1][0]\n",
    "print sltds\n",
    "sorted_tmpd"
   ]
  },
  {
   "cell_type": "code",
   "execution_count": 11,
   "metadata": {
    "collapsed": false
   },
   "outputs": [],
   "source": [
    "def cuisinetype(recipe):\n",
    "    tmpd = {}\n",
    "    for i in cuis:\n",
    "        tmpd[i] = 0\n",
    "        for j in recipe:\n",
    "            if j in ingr:\n",
    "                tmpd[i] += np.log(mat[(i,j)] + 0.001) - np.log(d[i])\n",
    "\n",
    "        #tmpd[i] = tmpd[i] / rarity[i]\n",
    "       \n",
    "    #tmpd[i] = tmpd[i] / d[i]\n",
    "    \n",
    "    sorted_tmpd = [(k,v) for v,k in sorted([(v,k) for k,v in tmpd.items()])]\n",
    "    #score1 = 100 + \n",
    "    print sorted_tmpd[-1][0], 'cuisine is the first with score of', add(100,sorted_tmpd[-1][1])\n",
    "    print sorted_tmpd[-2][0], 'cuisine is the second with score of', add(100,sorted_tmpd[-2][1])\n",
    "    print sorted_tmpd[-3][0], 'cuisine is the third with score of', add(100,sorted_tmpd[-3][1])\n"
   ]
  },
  {
   "cell_type": "code",
   "execution_count": 12,
   "metadata": {
    "collapsed": true
   },
   "outputs": [],
   "source": [
    "def flag(ingredient):\n",
    "    if ingredient in ingr:\n",
    "        return 1\n",
    "    else:\n",
    "        return 0"
   ]
  },
  {
   "cell_type": "code",
   "execution_count": 13,
   "metadata": {
    "collapsed": false
   },
   "outputs": [
    {
     "data": {
      "text/plain": [
       "1"
      ]
     },
     "execution_count": 13,
     "metadata": {},
     "output_type": "execute_result"
    }
   ],
   "source": [
    "flag('scallions')"
   ]
  },
  {
   "cell_type": "code",
   "execution_count": 14,
   "metadata": {
    "collapsed": false,
    "scrolled": true
   },
   "outputs": [
    {
     "name": "stdout",
     "output_type": "stream",
     "text": [
      "indian cuisine is the first with score of 81.0577677073\n",
      "japanese cuisine is the second with score of 74.2939792202\n",
      "vietnamese cuisine is the third with score of 72.996170835\n"
     ]
    }
   ],
   "source": [
    "cuisinetype(['curry','chicken','salt','potatoes','coconut','apples'])"
   ]
  },
  {
   "cell_type": "code",
   "execution_count": 15,
   "metadata": {
    "collapsed": false
   },
   "outputs": [
    {
     "name": "stdout",
     "output_type": "stream",
     "text": [
      "chinese cuisine is the first with score of 85.2556163061\n",
      "vietnamese cuisine is the second with score of 84.3479219236\n",
      "thai cuisine is the third with score of 83.3354405276\n"
     ]
    }
   ],
   "source": [
    "cuisinetype(['chicken','peanuts','scallions','garlic','oil','salt','sugar','soy sauce'])"
   ]
  },
  {
   "cell_type": "code",
   "execution_count": 16,
   "metadata": {
    "collapsed": false
   },
   "outputs": [],
   "source": [
    "ing = {}\n",
    "for i in ingr:\n",
    "    ing[i] = 0\n",
    "\n",
    "for i in range(totlen):\n",
    "    for j in range(len((data[i]['ingredients']))):\n",
    "        ing[data[i]['ingredients'][j].encode('utf-8')] += 1\n",
    "#print ing\n",
    "\n",
    "#sorted_ing = [(k,v) for v,k in sorted([(v,k) for k,v in ing.items()])]\n",
    "#print sorted_ing"
   ]
  },
  {
   "cell_type": "code",
   "execution_count": 17,
   "metadata": {
    "collapsed": true
   },
   "outputs": [],
   "source": [
    "rarity = {}\n",
    "for i in cuis:\n",
    "    rarity[i] = 0\n",
    "\n",
    "for i in range(totlen):\n",
    "    tmprar = 0\n",
    "    for j in data[i]['ingredients']:\n",
    "        tmprar += ing[j.encode('utf-8')]\n",
    "    rarity[(data[i]['cuisine'])] += tmprar"
   ]
  },
  {
   "cell_type": "code",
   "execution_count": 18,
   "metadata": {
    "collapsed": false
   },
   "outputs": [
    {
     "name": "stdout",
     "output_type": "stream",
     "text": [
      "{u'irish': 244858.41396776226, u'mexican': 2617432.394743281, u'chinese': 1164156.772062731, u'filipino': 332363.11401721247, u'vietnamese': 363142.39743629395, u'spanish': 406822.99403771805, u'japanese': 474599.94944356801, u'moroccan': 414500.5473640667, u'french': 966801.49799486855, u'greek': 471355.82146278635, u'indian': 1456588.1957373659, u'jamaican': 255404.40817972209, u'british': 288611.73060874472, u'brazilian': 167723.50606393226, u'russian': 202363.97831777672, u'cajun_creole': 734744.00211860437, u'thai': 633662.37424628169, u'southern_us': 1621460.8916140117, u'korean': 363804.72888416384, u'italian': 2998073.108504558}\n"
     ]
    }
   ],
   "source": [
    "rarity2 = {}\n",
    "for i in cuis:\n",
    "    rarity2[i] = 0\n",
    "\n",
    "for i in range(totlen):\n",
    "    tmprar = 0\n",
    "    for j in data[i]['ingredients']:\n",
    "        tmprar += np.sqrt(ing[j.encode('utf-8')])\n",
    "    rarity2[(data[i]['cuisine'])] += tmprar\n",
    "\n",
    "print rarity2"
   ]
  },
  {
   "cell_type": "code",
   "execution_count": 19,
   "metadata": {
    "collapsed": false
   },
   "outputs": [
    {
     "name": "stdout",
     "output_type": "stream",
     "text": [
      "{u'irish': 4.295501641532994e-05, u'mexican': 3.4832668639352464e-05, u'chinese': 2.9444962882675724e-05, u'filipino': 3.445868253416511e-05, u'vietnamese': 2.7758442071601203e-05, u'spanish': 3.55144152643533e-05, u'japanese': 3.4510365233423136e-05, u'moroccan': 2.7708377511550415e-05, u'french': 3.5516887150465344e-05, u'greek': 3.618601212848286e-05, u'indian': 3.7204710326404736e-05, u'jamaican': 4.16154647478126e-05, u'british': 5.1172425720363974e-05, u'brazilian': 4.005549410176218e-05, u'russian': 4.424505616361241e-05, u'cajun_creole': 3.5858581309061794e-05, u'thai': 2.781660975212709e-05, u'southern_us': 4.578969417910261e-05, u'korean': 2.5782573964421284e-05, u'italian': 3.434861526526421e-05}\n",
      "british\n"
     ]
    },
    {
     "name": "stderr",
     "output_type": "stream",
     "text": [
      "/Users/yutao/anaconda/lib/python2.7/site-packages/ipykernel/__main__.py:5: UnicodeWarning: Unicode equal comparison failed to convert both arguments to Unicode - interpreting them as being unequal\n"
     ]
    }
   ],
   "source": [
    "tmpd = {}\n",
    "for i in cuis:\n",
    "    tmpd[i] = 0\n",
    "    for j in data[1]['ingredients']:\n",
    "        if j in ingr:\n",
    "            tmpd[i] += mat[(i,j)]\n",
    "    \n",
    "    tmpd[i] = tmpd[i] / rarity[i]\n",
    "\n",
    "print tmpd\n",
    "\n",
    "sorted_tmpd = [(k,v) for v,k in sorted([(v,k) for k,v in tmpd.items()])]\n",
    "la = sorted_tmpd[-1][0]\n",
    "print la"
   ]
  },
  {
   "cell_type": "code",
   "execution_count": 20,
   "metadata": {
    "collapsed": false
   },
   "outputs": [
    {
     "name": "stdout",
     "output_type": "stream",
     "text": [
      "{u'cuisine': u'southern_us', u'id': 25693, u'ingredients': [u'plain flour', u'ground pepper', u'salt', u'tomatoes', u'ground black pepper', u'thyme', u'eggs', u'green tomatoes', u'yellow corn meal', u'milk', u'vegetable oil']}\n"
     ]
    }
   ],
   "source": [
    "print data[1]"
   ]
  },
  {
   "cell_type": "code",
   "execution_count": 21,
   "metadata": {
    "collapsed": false
   },
   "outputs": [
    {
     "name": "stdout",
     "output_type": "stream",
     "text": [
      "jamaican: 11 , southern_us: 7\n",
      "jamaican: 11 , southern_us: 43\n",
      "jamaican: 332 , southern_us: 2290\n",
      "jamaican: 37 , southern_us: 115\n",
      "jamaican: 89 , southern_us: 465\n",
      "jamaican: 72 , southern_us: 39\n",
      "jamaican: 41 , southern_us: 622\n",
      "jamaican: 0 , southern_us: 86\n",
      "jamaican: 1 , southern_us: 216\n",
      "jamaican: 27 , southern_us: 645\n",
      "jamaican: 96 , southern_us: 451\n"
     ]
    }
   ],
   "source": [
    "for i in data[1]['ingredients']:\n",
    "    print 'jamaican:', mat[('jamaican',i)], ', southern_us:', mat[('southern_us',i)]"
   ]
  },
  {
   "cell_type": "code",
   "execution_count": 22,
   "metadata": {
    "collapsed": false
   },
   "outputs": [
    {
     "name": "stderr",
     "output_type": "stream",
     "text": [
      "/Users/yutao/anaconda/lib/python2.7/site-packages/ipykernel/__main__.py:12: UnicodeWarning: Unicode equal comparison failed to convert both arguments to Unicode - interpreting them as being unequal\n"
     ]
    },
    {
     "name": "stdout",
     "output_type": "stream",
     "text": [
      "787\n"
     ]
    }
   ],
   "source": [
    "# Now i'll get the results!\n",
    "\n",
    "myresult = {}\n",
    "for i in range(1000):\n",
    "    myresult[i] = 'NaN'\n",
    "\n",
    "for num in range(1000):\n",
    "    tmpd = {}\n",
    "    for i in cuis:\n",
    "        tmpd[i] = 0\n",
    "        for j in data[num]['ingredients']:\n",
    "            if j in ingr:\n",
    "                tmpd[i] += np.log(mat[(i,j)] + 0.001) - np.log(d[i])\n",
    "\n",
    "        #tmpd[i] = tmpd[i] / rarity[i]\n",
    "        #tmpd[i] = tmpd[i] / d[i]\n",
    "    \n",
    "    sorted_tmpd = [(k,v) for v,k in sorted([(v,k) for k,v in tmpd.items()])]\n",
    "    myresult[num] = sorted_tmpd[-1][0]\n",
    "    \n",
    "#print myresult\n",
    "\n",
    "ct = 0\n",
    "for i in range(1000):\n",
    "    if myresult[i] == data[i]['cuisine']:\n",
    "        ct += 1\n",
    "        \n",
    "print ct"
   ]
  },
  {
   "cell_type": "code",
   "execution_count": null,
   "metadata": {
    "collapsed": true
   },
   "outputs": [],
   "source": []
  },
  {
   "cell_type": "code",
   "execution_count": 23,
   "metadata": {
    "collapsed": true
   },
   "outputs": [],
   "source": [
    "jsonFile2 = open('test.json', 'r')\n",
    "testdata = json.load(jsonFile2)"
   ]
  },
  {
   "cell_type": "code",
   "execution_count": 24,
   "metadata": {
    "collapsed": true
   },
   "outputs": [],
   "source": [
    "myresult = {}"
   ]
  },
  {
   "cell_type": "code",
   "execution_count": 25,
   "metadata": {
    "collapsed": false
   },
   "outputs": [
    {
     "name": "stderr",
     "output_type": "stream",
     "text": [
      "/Users/yutao/anaconda/lib/python2.7/site-packages/ipykernel/__main__.py:12: UnicodeWarning: Unicode equal comparison failed to convert both arguments to Unicode - interpreting them as being unequal\n"
     ]
    },
    {
     "name": "stdout",
     "output_type": "stream",
     "text": [
      "6.058819\n"
     ]
    }
   ],
   "source": [
    "import time\n",
    "start = time.clock()\n",
    "\n",
    "for i in range(9000,9044):\n",
    "    myresult[i] = 'NaN'\n",
    "\n",
    "for num in range(9000,9044):\n",
    "    tmpd = {}\n",
    "    for i in cuis:\n",
    "        tmpd[i] = 0\n",
    "        for j in testdata[num]['ingredients']:\n",
    "            if j in ingr:\n",
    "                tmpd[i] += np.log(mat[(i,j)] + 0.001) - np.log(d[i])\n",
    "\n",
    "        #tmpd[i] = tmpd[i] / rarity[i]\n",
    "        #tmpd[i] = tmpd[i] / d[i]\n",
    "    \n",
    "    sorted_tmpd = [(k,v) for v,k in sorted([(v,k) for k,v in tmpd.items()])]\n",
    "    myresult[num] = sorted_tmpd[-1][0]\n",
    "    \n",
    "print (time.clock() - start)"
   ]
  },
  {
   "cell_type": "code",
   "execution_count": 38,
   "metadata": {
    "collapsed": false
   },
   "outputs": [],
   "source": [
    "with open('newresult.csv', 'wb') as csvFile:\n",
    "    writer = csv.writer(csvFile)\n",
    "    headers = ['id','cuisine']\n",
    "    writer.writerow(headers)\n",
    "        \n",
    "    for i in range(9944):\n",
    "        id = testdata[i]['id']\n",
    "        cuisine = myresult[i]\n",
    "        \n",
    "        writer.writerow([id, cuisine])"
   ]
  },
  {
   "cell_type": "code",
   "execution_count": null,
   "metadata": {
    "collapsed": true
   },
   "outputs": [],
   "source": []
  },
  {
   "cell_type": "code",
   "execution_count": 26,
   "metadata": {
    "collapsed": false
   },
   "outputs": [
    {
     "data": {
      "text/plain": [
       "907"
      ]
     },
     "execution_count": 26,
     "metadata": {},
     "output_type": "execute_result"
    }
   ],
   "source": [
    "mat[('chinese','salt')]"
   ]
  },
  {
   "cell_type": "code",
   "execution_count": 27,
   "metadata": {
    "collapsed": false
   },
   "outputs": [
    {
     "data": {
      "text/plain": [
       "3"
      ]
     },
     "execution_count": 27,
     "metadata": {},
     "output_type": "execute_result"
    }
   ],
   "source": [
    "np.count_nonzero([1,2,0,0,3])"
   ]
  },
  {
   "cell_type": "code",
   "execution_count": 28,
   "metadata": {
    "collapsed": false
   },
   "outputs": [
    {
     "data": {
      "text/plain": [
       "105101"
      ]
     },
     "execution_count": 28,
     "metadata": {},
     "output_type": "execute_result"
    }
   ],
   "source": [
    "aaa = 0\n",
    "for i in cuis:\n",
    "    for j in ingr:\n",
    "        if mat[(i,j)] == 0:\n",
    "            aaa += 1\n",
    "\n",
    "aaa"
   ]
  },
  {
   "cell_type": "code",
   "execution_count": 29,
   "metadata": {
    "collapsed": false
   },
   "outputs": [
    {
     "data": {
      "text/plain": [
       "[0.0,\n",
       " 0.0014992503748125937,\n",
       " 0.0014992503748125937,\n",
       " 0.0014992503748125937,\n",
       " 0.0,\n",
       " 0.0,\n",
       " 0.0,\n",
       " 0.0,\n",
       " 0.0,\n",
       " 0.0,\n",
       " 0.0,\n",
       " 0.0,\n",
       " 0.0,\n",
       " 0.0029985007496251873,\n",
       " 0.0,\n",
       " 0.0,\n",
       " 0.0,\n",
       " 0.0,\n",
       " 0.0,\n",
       " 0.004497751124437781,\n",
       " 0.0,\n",
       " 0.053973013493253376,\n",
       " 0.0,\n",
       " 0.0,\n",
       " 0.0,\n",
       " 0.01199400299850075,\n",
       " 0.0029985007496251873,\n",
       " 0.0,\n",
       " 0.0,\n",
       " 0.0,\n",
       " 0.0,\n",
       " 0.0,\n",
       " 0.0,\n",
       " 0.0,\n",
       " 0.0,\n",
       " 0.0,\n",
       " 0.0,\n",
       " 0.0,\n",
       " 0.0,\n",
       " 0.0,\n",
       " 0.0,\n",
       " 0.0,\n",
       " 0.0014992503748125937,\n",
       " 0.0074962518740629685,\n",
       " 0.0,\n",
       " 0.0,\n",
       " 0.0,\n",
       " 0.0,\n",
       " 0.0,\n",
       " 0.0,\n",
       " 0.0014992503748125937,\n",
       " 0.0,\n",
       " 0.0,\n",
       " 0.0,\n",
       " 0.0029985007496251873,\n",
       " 0.0,\n",
       " 0.0,\n",
       " 0.0,\n",
       " 0.0,\n",
       " 0.0,\n",
       " 0.0,\n",
       " 0.0014992503748125937,\n",
       " 0.0,\n",
       " 0.0,\n",
       " 0.0,\n",
       " 0.0,\n",
       " 0.0,\n",
       " 0.0,\n",
       " 0.0,\n",
       " 0.0,\n",
       " 0.0,\n",
       " 0.0,\n",
       " 0.0,\n",
       " 0.0,\n",
       " 0.0029985007496251873,\n",
       " 0.0,\n",
       " 0.0,\n",
       " 0.0,\n",
       " 0.0,\n",
       " 0.0,\n",
       " 0.0,\n",
       " 0.0,\n",
       " 0.0,\n",
       " 0.0,\n",
       " 0.0,\n",
       " 0.0,\n",
       " 0.0,\n",
       " 0.0,\n",
       " 0.0,\n",
       " 0.0,\n",
       " 0.0,\n",
       " 0.0,\n",
       " 0.0,\n",
       " 0.0029985007496251873,\n",
       " 0.0,\n",
       " 0.0014992503748125937,\n",
       " 0.0,\n",
       " 0.0014992503748125937,\n",
       " 0.0,\n",
       " 0.0,\n",
       " 0.0,\n",
       " 0.0,\n",
       " 0.010494752623688156,\n",
       " 0.0,\n",
       " 0.0,\n",
       " 0.0,\n",
       " 0.0,\n",
       " 0.0,\n",
       " 0.0,\n",
       " 0.0,\n",
       " 0.0,\n",
       " 0.0,\n",
       " 0.0,\n",
       " 0.0,\n",
       " 0.004497751124437781,\n",
       " 0.0,\n",
       " 0.0,\n",
       " 0.0,\n",
       " 0.0,\n",
       " 0.0,\n",
       " 0.020989505247376312,\n",
       " 0.0,\n",
       " 0.0,\n",
       " 0.0,\n",
       " 0.0,\n",
       " 0.0,\n",
       " 0.0,\n",
       " 0.0,\n",
       " 0.0,\n",
       " 0.0,\n",
       " 0.07196401799100449,\n",
       " 0.0,\n",
       " 0.0,\n",
       " 0.0,\n",
       " 0.0,\n",
       " 0.0,\n",
       " 0.0,\n",
       " 0.0,\n",
       " 0.0,\n",
       " 0.0,\n",
       " 0.0,\n",
       " 0.0,\n",
       " 0.0,\n",
       " 0.0,\n",
       " 0.0,\n",
       " 0.0,\n",
       " 0.0,\n",
       " 0.0,\n",
       " 0.0,\n",
       " 0.0,\n",
       " 0.0,\n",
       " 0.0,\n",
       " 0.0,\n",
       " 0.0,\n",
       " 0.0,\n",
       " 0.0,\n",
       " 0.0,\n",
       " 0.0,\n",
       " 0.0,\n",
       " 0.0,\n",
       " 0.0,\n",
       " 0.0,\n",
       " 0.0029985007496251873,\n",
       " 0.0,\n",
       " 0.0,\n",
       " 0.0,\n",
       " 0.0,\n",
       " 0.0,\n",
       " 0.0,\n",
       " 0.0,\n",
       " 0.0,\n",
       " 0.014992503748125937,\n",
       " 0.0,\n",
       " 0.0,\n",
       " 0.0,\n",
       " 0.0,\n",
       " 0.005997001499250375,\n",
       " 0.0,\n",
       " 0.0,\n",
       " 0.0,\n",
       " 0.0,\n",
       " 0.0,\n",
       " 0.0,\n",
       " 0.0,\n",
       " 0.0,\n",
       " 0.0,\n",
       " 0.0,\n",
       " 0.0,\n",
       " 0.0,\n",
       " 0.0,\n",
       " 0.0,\n",
       " 0.0,\n",
       " 0.0,\n",
       " 0.0,\n",
       " 0.0,\n",
       " 0.0014992503748125937,\n",
       " 0.0,\n",
       " 0.0,\n",
       " 0.0,\n",
       " 0.0,\n",
       " 0.0,\n",
       " 0.0,\n",
       " 0.0,\n",
       " 0.0,\n",
       " 0.0,\n",
       " 0.0,\n",
       " 0.0029985007496251873,\n",
       " 0.0,\n",
       " 0.0,\n",
       " 0.008995502248875561,\n",
       " 0.0,\n",
       " 0.005997001499250375,\n",
       " 0.0,\n",
       " 0.0,\n",
       " 0.0,\n",
       " 0.0014992503748125937,\n",
       " 0.0,\n",
       " 0.0,\n",
       " 0.0014992503748125937,\n",
       " 0.0,\n",
       " 0.0,\n",
       " 0.0,\n",
       " 0.0,\n",
       " 0.0,\n",
       " 0.0,\n",
       " 0.0,\n",
       " 0.0,\n",
       " 0.0,\n",
       " 0.0,\n",
       " 0.0014992503748125937,\n",
       " 0.0,\n",
       " 0.0,\n",
       " 0.0,\n",
       " 0.0029985007496251873,\n",
       " 0.0,\n",
       " 0.0,\n",
       " 0.0,\n",
       " 0.0,\n",
       " 0.0,\n",
       " 0.0,\n",
       " 0.0,\n",
       " 0.0,\n",
       " 0.0,\n",
       " 0.0,\n",
       " 0.0,\n",
       " 0.0,\n",
       " 0.0,\n",
       " 0.0,\n",
       " 0.0,\n",
       " 0.0,\n",
       " 0.0,\n",
       " 0.0,\n",
       " 0.0,\n",
       " 0.0,\n",
       " 0.0,\n",
       " 0.0,\n",
       " 0.0,\n",
       " 0.0,\n",
       " 0.0,\n",
       " 0.0,\n",
       " 0.0,\n",
       " 0.0,\n",
       " 0.0,\n",
       " 0.0,\n",
       " 0.0,\n",
       " 0.0029985007496251873,\n",
       " 0.0,\n",
       " 0.0,\n",
       " 0.0014992503748125937,\n",
       " 0.0,\n",
       " 0.0,\n",
       " 0.0,\n",
       " 0.0,\n",
       " 0.0,\n",
       " 0.0,\n",
       " 0.0,\n",
       " 0.0,\n",
       " 0.0029985007496251873,\n",
       " 0.0,\n",
       " 0.013493253373313344,\n",
       " 0.0,\n",
       " 0.0,\n",
       " 0.0014992503748125937,\n",
       " 0.0014992503748125937,\n",
       " 0.0,\n",
       " 0.0,\n",
       " 0.0,\n",
       " 0.0,\n",
       " 0.0,\n",
       " 0.0,\n",
       " 0.0,\n",
       " 0.0,\n",
       " 0.0,\n",
       " 0.0,\n",
       " 0.0,\n",
       " 0.0,\n",
       " 0.0,\n",
       " 0.0,\n",
       " 0.0014992503748125937,\n",
       " 0.0,\n",
       " 0.0,\n",
       " 0.0,\n",
       " 0.0,\n",
       " 0.0,\n",
       " 0.0,\n",
       " 0.0,\n",
       " 0.0,\n",
       " 0.0,\n",
       " 0.0,\n",
       " 0.01199400299850075,\n",
       " 0.0,\n",
       " 0.0,\n",
       " 0.0,\n",
       " 0.005997001499250375,\n",
       " 0.0014992503748125937,\n",
       " 0.0,\n",
       " 0.0,\n",
       " 0.0,\n",
       " 0.0,\n",
       " 0.0,\n",
       " 0.0,\n",
       " 0.01199400299850075,\n",
       " 0.0,\n",
       " 0.0,\n",
       " 0.0,\n",
       " 0.0,\n",
       " 0.0,\n",
       " 0.0,\n",
       " 0.014992503748125937,\n",
       " 0.0,\n",
       " 0.0,\n",
       " 0.0014992503748125937,\n",
       " 0.0,\n",
       " 0.0,\n",
       " 0.005997001499250375,\n",
       " 0.0,\n",
       " 0.0,\n",
       " 0.0,\n",
       " 0.0,\n",
       " 0.0,\n",
       " 0.0,\n",
       " 0.0,\n",
       " 0.0,\n",
       " 0.0,\n",
       " 0.0,\n",
       " 0.0,\n",
       " 0.0,\n",
       " 0.0,\n",
       " 0.0,\n",
       " 0.0,\n",
       " 0.0,\n",
       " 0.0,\n",
       " 0.0,\n",
       " 0.0,\n",
       " 0.0,\n",
       " 0.0,\n",
       " 0.0,\n",
       " 0.0,\n",
       " 0.0,\n",
       " 0.0,\n",
       " 0.01199400299850075,\n",
       " 0.0,\n",
       " 0.0029985007496251873,\n",
       " 0.0,\n",
       " 0.0,\n",
       " 0.0,\n",
       " 0.0,\n",
       " 0.0,\n",
       " 0.0,\n",
       " 0.017991004497751123,\n",
       " 0.0,\n",
       " 0.0,\n",
       " 0.0074962518740629685,\n",
       " 0.0,\n",
       " 0.0,\n",
       " 0.0,\n",
       " 0.0014992503748125937,\n",
       " 0.0,\n",
       " 0.0014992503748125937,\n",
       " 0.0,\n",
       " 0.0,\n",
       " 0.005997001499250375,\n",
       " 0.0,\n",
       " 0.0,\n",
       " 0.0,\n",
       " 0.0,\n",
       " 0.008995502248875561,\n",
       " 0.0,\n",
       " 0.0,\n",
       " 0.0,\n",
       " 0.0,\n",
       " 0.0,\n",
       " 0.0,\n",
       " 0.0,\n",
       " 0.004497751124437781,\n",
       " 0.0,\n",
       " 0.0,\n",
       " 0.0,\n",
       " 0.0,\n",
       " 0.004497751124437781,\n",
       " 0.0,\n",
       " 0.0,\n",
       " 0.0,\n",
       " 0.0,\n",
       " 0.0,\n",
       " 0.0,\n",
       " 0.0029985007496251873,\n",
       " 0.0,\n",
       " 0.0,\n",
       " 0.0,\n",
       " 0.0,\n",
       " 0.0,\n",
       " 0.0,\n",
       " 0.0,\n",
       " 0.0,\n",
       " 0.0,\n",
       " 0.0,\n",
       " 0.0,\n",
       " 0.0014992503748125937,\n",
       " 0.0,\n",
       " 0.0029985007496251873,\n",
       " 0.0,\n",
       " 0.0,\n",
       " 0.0,\n",
       " 0.0,\n",
       " 0.04047976011994003,\n",
       " 0.0,\n",
       " 0.0,\n",
       " 0.0,\n",
       " 0.0014992503748125937,\n",
       " 0.0,\n",
       " 0.0,\n",
       " 0.0,\n",
       " 0.0014992503748125937,\n",
       " 0.0014992503748125937,\n",
       " 0.0,\n",
       " 0.0,\n",
       " 0.0,\n",
       " 0.0,\n",
       " 0.008995502248875561,\n",
       " 0.0,\n",
       " 0.0,\n",
       " 0.0,\n",
       " 0.0,\n",
       " 0.0,\n",
       " 0.0014992503748125937,\n",
       " 0.0,\n",
       " 0.0,\n",
       " 0.0,\n",
       " 0.0,\n",
       " 0.0,\n",
       " 0.0,\n",
       " 0.0,\n",
       " 0.0,\n",
       " 0.0,\n",
       " 0.0014992503748125937,\n",
       " 0.008995502248875561,\n",
       " 0.0,\n",
       " 0.0,\n",
       " 0.0,\n",
       " 0.0,\n",
       " 0.0,\n",
       " 0.0,\n",
       " 0.0029985007496251873,\n",
       " 0.0,\n",
       " 0.0,\n",
       " 0.0,\n",
       " 0.0,\n",
       " 0.0,\n",
       " 0.0,\n",
       " 0.0,\n",
       " 0.0,\n",
       " 0.0,\n",
       " 0.0,\n",
       " 0.0,\n",
       " 0.0,\n",
       " 0.0,\n",
       " 0.0,\n",
       " 0.014992503748125937,\n",
       " 0.0,\n",
       " 0.0,\n",
       " 0.0014992503748125937,\n",
       " 0.0,\n",
       " 0.0,\n",
       " 0.0,\n",
       " 0.0,\n",
       " 0.0,\n",
       " 0.0,\n",
       " 0.0,\n",
       " 0.0,\n",
       " 0.0,\n",
       " 0.0,\n",
       " 0.0,\n",
       " 0.0029985007496251873,\n",
       " 0.0,\n",
       " 0.0,\n",
       " 0.0,\n",
       " 0.0,\n",
       " 0.0014992503748125937,\n",
       " 0.0,\n",
       " 0.008995502248875561,\n",
       " 0.0,\n",
       " 0.0,\n",
       " 0.0029985007496251873,\n",
       " 0.0,\n",
       " 0.0,\n",
       " 0.0,\n",
       " 0.0,\n",
       " 0.0,\n",
       " 0.0,\n",
       " 0.0,\n",
       " 0.0,\n",
       " 0.0,\n",
       " 0.0,\n",
       " 0.0014992503748125937,\n",
       " 0.0,\n",
       " 0.0,\n",
       " 0.0,\n",
       " 0.005997001499250375,\n",
       " 0.0,\n",
       " 0.0,\n",
       " 0.0,\n",
       " 0.0014992503748125937,\n",
       " 0.0,\n",
       " 0.0,\n",
       " 0.0,\n",
       " 0.0,\n",
       " 0.0,\n",
       " 0.0,\n",
       " 0.0,\n",
       " 0.0,\n",
       " 0.0,\n",
       " 0.0,\n",
       " 0.0,\n",
       " 0.0,\n",
       " 0.0,\n",
       " 0.0,\n",
       " 0.0029985007496251873,\n",
       " 0.0,\n",
       " 0.0,\n",
       " 0.0,\n",
       " 0.0,\n",
       " 0.0,\n",
       " 0.01199400299850075,\n",
       " 0.0,\n",
       " 0.0,\n",
       " 0.0,\n",
       " 0.0,\n",
       " 0.0,\n",
       " 0.0014992503748125937,\n",
       " 0.0,\n",
       " 0.0,\n",
       " 0.0,\n",
       " 0.0,\n",
       " 0.0,\n",
       " 0.0,\n",
       " 0.0,\n",
       " 0.0074962518740629685,\n",
       " 0.0,\n",
       " 0.0,\n",
       " 0.0,\n",
       " 0.0,\n",
       " 0.0,\n",
       " 0.0,\n",
       " 0.0014992503748125937,\n",
       " 0.0,\n",
       " 0.0,\n",
       " 0.0,\n",
       " 0.0,\n",
       " 0.0,\n",
       " 0.0,\n",
       " 0.0,\n",
       " 0.0,\n",
       " 0.0,\n",
       " 0.0,\n",
       " 0.0,\n",
       " 0.0,\n",
       " 0.0,\n",
       " 0.0,\n",
       " 0.0,\n",
       " 0.004497751124437781,\n",
       " 0.0,\n",
       " 0.0,\n",
       " 0.0,\n",
       " 0.0,\n",
       " 0.0074962518740629685,\n",
       " 0.0,\n",
       " 0.0,\n",
       " 0.0,\n",
       " 0.0,\n",
       " 0.5637181409295352,\n",
       " 0.0,\n",
       " 0.004497751124437781,\n",
       " 0.0,\n",
       " 0.0014992503748125937,\n",
       " 0.0,\n",
       " 0.0,\n",
       " 0.0,\n",
       " 0.0,\n",
       " 0.0,\n",
       " 0.0,\n",
       " 0.0,\n",
       " 0.0,\n",
       " 0.0,\n",
       " 0.0,\n",
       " 0.0014992503748125937,\n",
       " 0.0,\n",
       " 0.0,\n",
       " 0.0,\n",
       " 0.0,\n",
       " 0.0,\n",
       " 0.0,\n",
       " 0.0,\n",
       " 0.0,\n",
       " 0.0,\n",
       " 0.0,\n",
       " 0.0,\n",
       " 0.0,\n",
       " 0.0,\n",
       " 0.0,\n",
       " 0.0,\n",
       " 0.0,\n",
       " 0.0,\n",
       " 0.0,\n",
       " 0.0029985007496251873,\n",
       " 0.0,\n",
       " 0.0,\n",
       " 0.0,\n",
       " 0.0014992503748125937,\n",
       " 0.0,\n",
       " 0.0,\n",
       " 0.0,\n",
       " 0.0,\n",
       " 0.0,\n",
       " 0.0,\n",
       " 0.0,\n",
       " 0.0,\n",
       " 0.0014992503748125937,\n",
       " 0.0,\n",
       " 0.0,\n",
       " 0.0,\n",
       " 0.0,\n",
       " 0.017991004497751123,\n",
       " 0.0,\n",
       " 0.0014992503748125937,\n",
       " 0.0,\n",
       " 0.0,\n",
       " 0.0,\n",
       " 0.0014992503748125937,\n",
       " 0.0,\n",
       " 0.0,\n",
       " 0.0,\n",
       " 0.0,\n",
       " 0.0,\n",
       " 0.0,\n",
       " 0.0,\n",
       " 0.0,\n",
       " 0.0,\n",
       " 0.0,\n",
       " 0.004497751124437781,\n",
       " 0.0,\n",
       " 0.0,\n",
       " 0.0,\n",
       " 0.0,\n",
       " 0.0,\n",
       " 0.0,\n",
       " 0.0,\n",
       " 0.0,\n",
       " 0.0,\n",
       " 0.0,\n",
       " 0.0,\n",
       " 0.0,\n",
       " 0.0,\n",
       " 0.0,\n",
       " 0.0,\n",
       " 0.0,\n",
       " 0.0,\n",
       " 0.0,\n",
       " 0.0,\n",
       " 0.0014992503748125937,\n",
       " 0.0,\n",
       " 0.0,\n",
       " 0.0,\n",
       " 0.0,\n",
       " 0.0,\n",
       " 0.0,\n",
       " 0.0,\n",
       " 0.0,\n",
       " 0.0,\n",
       " 0.0,\n",
       " 0.0,\n",
       " 0.0,\n",
       " 0.0,\n",
       " 0.014992503748125937,\n",
       " 0.0,\n",
       " 0.0014992503748125937,\n",
       " 0.0014992503748125937,\n",
       " 0.0,\n",
       " 0.0,\n",
       " 0.0,\n",
       " 0.0,\n",
       " 0.0,\n",
       " 0.0,\n",
       " 0.0,\n",
       " 0.0,\n",
       " 0.0,\n",
       " 0.0,\n",
       " 0.0,\n",
       " 0.0,\n",
       " 0.0,\n",
       " 0.0,\n",
       " 0.0029985007496251873,\n",
       " 0.0,\n",
       " 0.0,\n",
       " 0.0014992503748125937,\n",
       " 0.0,\n",
       " 0.0,\n",
       " 0.0,\n",
       " 0.0,\n",
       " 0.0014992503748125937,\n",
       " 0.0,\n",
       " 0.0,\n",
       " 0.0,\n",
       " 0.0,\n",
       " 0.0,\n",
       " 0.0,\n",
       " 0.0,\n",
       " 0.0,\n",
       " 0.0029985007496251873,\n",
       " 0.0,\n",
       " 0.0,\n",
       " 0.0,\n",
       " 0.0014992503748125937,\n",
       " 0.0,\n",
       " 0.0,\n",
       " 0.0,\n",
       " 0.0014992503748125937,\n",
       " 0.0,\n",
       " 0.004497751124437781,\n",
       " 0.0029985007496251873,\n",
       " 0.0,\n",
       " 0.0,\n",
       " 0.0,\n",
       " 0.0029985007496251873,\n",
       " 0.0,\n",
       " 0.0,\n",
       " 0.0,\n",
       " 0.0,\n",
       " 0.0,\n",
       " 0.0,\n",
       " 0.0,\n",
       " 0.0,\n",
       " 0.0,\n",
       " 0.0,\n",
       " 0.0,\n",
       " 0.0,\n",
       " 0.0,\n",
       " 0.0,\n",
       " 0.0,\n",
       " 0.0,\n",
       " 0.0,\n",
       " 0.0,\n",
       " 0.0,\n",
       " 0.0,\n",
       " 0.0,\n",
       " 0.0,\n",
       " 0.0,\n",
       " 0.0,\n",
       " 0.0,\n",
       " 0.0,\n",
       " 0.0,\n",
       " 0.0,\n",
       " 0.0,\n",
       " 0.0,\n",
       " 0.0,\n",
       " 0.0,\n",
       " 0.034482758620689655,\n",
       " 0.0,\n",
       " 0.0,\n",
       " 0.0,\n",
       " 0.0,\n",
       " 0.0014992503748125937,\n",
       " 0.0,\n",
       " 0.0,\n",
       " 0.0,\n",
       " 0.0,\n",
       " 0.0,\n",
       " 0.0,\n",
       " 0.0,\n",
       " 0.017991004497751123,\n",
       " 0.0014992503748125937,\n",
       " 0.0,\n",
       " 0.0,\n",
       " 0.0,\n",
       " 0.0,\n",
       " 0.0,\n",
       " 0.0,\n",
       " 0.0,\n",
       " 0.0,\n",
       " 0.0,\n",
       " 0.0,\n",
       " 0.0,\n",
       " 0.0,\n",
       " 0.0,\n",
       " 0.0,\n",
       " 0.0014992503748125937,\n",
       " 0.0,\n",
       " 0.0,\n",
       " 0.0,\n",
       " 0.0,\n",
       " 0.0,\n",
       " 0.0,\n",
       " 0.0,\n",
       " 0.0,\n",
       " 0.0,\n",
       " 0.0014992503748125937,\n",
       " 0.0,\n",
       " 0.0,\n",
       " 0.0,\n",
       " 0.0,\n",
       " 0.0,\n",
       " 0.0,\n",
       " 0.0,\n",
       " 0.0,\n",
       " 0.0,\n",
       " 0.0,\n",
       " 0.0,\n",
       " 0.0014992503748125937,\n",
       " 0.0,\n",
       " 0.0,\n",
       " 0.0,\n",
       " 0.0,\n",
       " 0.0,\n",
       " 0.0,\n",
       " 0.0,\n",
       " 0.0,\n",
       " 0.0,\n",
       " 0.0,\n",
       " 0.0,\n",
       " 0.0,\n",
       " 0.0014992503748125937,\n",
       " 0.0,\n",
       " 0.0,\n",
       " 0.0,\n",
       " 0.0014992503748125937,\n",
       " 0.0,\n",
       " 0.0,\n",
       " 0.0,\n",
       " 0.0,\n",
       " 0.0,\n",
       " 0.0,\n",
       " 0.0,\n",
       " 0.0,\n",
       " 0.0014992503748125937,\n",
       " 0.0,\n",
       " 0.0,\n",
       " 0.0,\n",
       " 0.0,\n",
       " 0.0074962518740629685,\n",
       " 0.0,\n",
       " 0.0,\n",
       " 0.0,\n",
       " 0.0,\n",
       " 0.0,\n",
       " 0.0,\n",
       " 0.0,\n",
       " 0.0,\n",
       " 0.0,\n",
       " 0.0,\n",
       " 0.005997001499250375,\n",
       " 0.0,\n",
       " 0.0,\n",
       " 0.0,\n",
       " 0.0,\n",
       " 0.0,\n",
       " 0.0,\n",
       " 0.0,\n",
       " 0.0,\n",
       " 0.0,\n",
       " 0.0,\n",
       " 0.0,\n",
       " 0.0,\n",
       " 0.0,\n",
       " 0.0,\n",
       " 0.0,\n",
       " 0.01649175412293853,\n",
       " 0.0,\n",
       " 0.0,\n",
       " 0.035982008995502246,\n",
       " 0.0029985007496251873,\n",
       " 0.014992503748125937,\n",
       " 0.0029985007496251873,\n",
       " 0.0014992503748125937,\n",
       " 0.0,\n",
       " 0.017991004497751123,\n",
       " 0.0,\n",
       " 0.0,\n",
       " 0.0,\n",
       " 0.0,\n",
       " 0.0,\n",
       " 0.0,\n",
       " 0.0,\n",
       " 0.0,\n",
       " 0.0,\n",
       " 0.0,\n",
       " 0.0,\n",
       " 0.0014992503748125937,\n",
       " 0.0,\n",
       " 0.0,\n",
       " 0.0,\n",
       " 0.0014992503748125937,\n",
       " 0.0,\n",
       " 0.0,\n",
       " 0.0,\n",
       " 0.0,\n",
       " 0.0,\n",
       " 0.0,\n",
       " 0.005997001499250375,\n",
       " 0.004497751124437781,\n",
       " 0.0,\n",
       " 0.0,\n",
       " 0.0,\n",
       " 0.0,\n",
       " 0.0,\n",
       " 0.0,\n",
       " 0.0,\n",
       " 0.0,\n",
       " 0.0,\n",
       " 0.004497751124437781,\n",
       " 0.0,\n",
       " 0.0,\n",
       " 0.0014992503748125937,\n",
       " 0.0074962518740629685,\n",
       " 0.0,\n",
       " 0.0,\n",
       " 0.0,\n",
       " 0.0,\n",
       " 0.0,\n",
       " 0.0,\n",
       " 0.0014992503748125937,\n",
       " 0.0,\n",
       " 0.0,\n",
       " 0.0,\n",
       " 0.0,\n",
       " 0.0,\n",
       " 0.0,\n",
       " 0.0,\n",
       " 0.0,\n",
       " 0.0,\n",
       " 0.0,\n",
       " 0.0,\n",
       " 0.0,\n",
       " 0.0,\n",
       " 0.0,\n",
       " 0.0,\n",
       " 0.0014992503748125937,\n",
       " 0.0,\n",
       " 0.0014992503748125937,\n",
       " 0.0,\n",
       " 0.0,\n",
       " 0.0,\n",
       " 0.0,\n",
       " 0.0,\n",
       " 0.0,\n",
       " 0.0,\n",
       " 0.0,\n",
       " 0.0,\n",
       " 0.0,\n",
       " 0.0,\n",
       " 0.0,\n",
       " 0.0,\n",
       " 0.0,\n",
       " 0.0014992503748125937,\n",
       " 0.0,\n",
       " 0.0,\n",
       " 0.0,\n",
       " 0.0,\n",
       " 0.0,\n",
       " 0.0,\n",
       " 0.0,\n",
       " 0.0,\n",
       " 0.0,\n",
       " 0.010494752623688156,\n",
       " 0.0,\n",
       " 0.0,\n",
       " 0.0029985007496251873,\n",
       " 0.0,\n",
       " 0.0,\n",
       " 0.0,\n",
       " 0.0,\n",
       " 0.0,\n",
       " 0.0,\n",
       " 0.0,\n",
       " 0.0,\n",
       " 0.0,\n",
       " 0.0,\n",
       " 0.0,\n",
       " 0.0,\n",
       " 0.0,\n",
       " 0.0,\n",
       " ...]"
      ]
     },
     "execution_count": 29,
     "metadata": {},
     "output_type": "execute_result"
    }
   ],
   "source": [
    "prob = []\n",
    "for i in cuis:\n",
    "    for j in ingr:\n",
    "        prob.append(mat[(i,j)]/d[i])\n",
    "prob"
   ]
  },
  {
   "cell_type": "code",
   "execution_count": 30,
   "metadata": {
    "collapsed": false
   },
   "outputs": [
    {
     "data": {
      "text/plain": [
       "0.0016254843863374858"
      ]
     },
     "execution_count": 30,
     "metadata": {},
     "output_type": "execute_result"
    }
   ],
   "source": [
    "mean1 = np.mean(prob)\n",
    "mean1"
   ]
  },
  {
   "cell_type": "code",
   "execution_count": 31,
   "metadata": {
    "collapsed": false
   },
   "outputs": [
    {
     "data": {
      "text/plain": [
       "0.00017005490170371332"
      ]
     },
     "execution_count": 31,
     "metadata": {},
     "output_type": "execute_result"
    }
   ],
   "source": [
    "var1 = np.var(prob)\n",
    "var1"
   ]
  },
  {
   "cell_type": "code",
   "execution_count": 32,
   "metadata": {
    "collapsed": false
   },
   "outputs": [
    {
     "data": {
      "text/plain": [
       "615.2012338015644"
      ]
     },
     "execution_count": 32,
     "metadata": {},
     "output_type": "execute_result"
    }
   ],
   "source": [
    "1/mean1"
   ]
  },
  {
   "cell_type": "code",
   "execution_count": null,
   "metadata": {
    "collapsed": true
   },
   "outputs": [],
   "source": []
  },
  {
   "cell_type": "code",
   "execution_count": 33,
   "metadata": {
    "collapsed": false
   },
   "outputs": [
    {
     "name": "stdout",
     "output_type": "stream",
     "text": [
      "japanese cuisine is the first with score of 75.7075884772\n",
      "thai cuisine is the second with score of 72.6934068922\n",
      "vietnamese cuisine is the third with score of 72.3035232797\n"
     ]
    }
   ],
   "source": [
    "cuisinetype(['chicken','curry','salt','potatoes','coconut','ramen noodles'])"
   ]
  },
  {
   "cell_type": "code",
   "execution_count": 34,
   "metadata": {
    "collapsed": false
   },
   "outputs": [
    {
     "name": "stdout",
     "output_type": "stream",
     "text": [
      "chinese cuisine is the first with score of 85.2556163061\n",
      "vietnamese cuisine is the second with score of 84.3479219236\n",
      "thai cuisine is the third with score of 83.3354405276\n"
     ]
    }
   ],
   "source": [
    "cuisinetype(['chicken','peanuts','scallions','garlic','oil','salt','sugar','soy sauce'])"
   ]
  },
  {
   "cell_type": "code",
   "execution_count": 35,
   "metadata": {
    "collapsed": false
   },
   "outputs": [
    {
     "name": "stdout",
     "output_type": "stream",
     "text": [
      "russian cuisine is the first with score of 75.2730308451\n",
      "cajun_creole cuisine is the second with score of 75.1196726934\n",
      "italian cuisine is the third with score of 75.0891367938\n"
     ]
    }
   ],
   "source": [
    "cuisinetype(['beef','ground black pepper','salt','garlic powder','milk','eggs','parsley','parmesan cheese'])"
   ]
  },
  {
   "cell_type": "code",
   "execution_count": 36,
   "metadata": {
    "collapsed": false
   },
   "outputs": [
    {
     "data": {
      "text/plain": [
       "1"
      ]
     },
     "execution_count": 36,
     "metadata": {},
     "output_type": "execute_result"
    }
   ],
   "source": [
    "flag('cabbage')"
   ]
  },
  {
   "cell_type": "code",
   "execution_count": 37,
   "metadata": {
    "collapsed": false
   },
   "outputs": [
    {
     "name": "stdout",
     "output_type": "stream",
     "text": [
      "russian cuisine is the first with score of 84.5728572204\n",
      "japanese cuisine is the second with score of 84.4936862451\n",
      "chinese cuisine is the third with score of 84.2961544773\n"
     ]
    }
   ],
   "source": [
    "cuisinetype(['ramen noodles','carrots','cabbage','green pepper'])"
   ]
  },
  {
   "cell_type": "code",
   "execution_count": null,
   "metadata": {
    "collapsed": true
   },
   "outputs": [],
   "source": []
  },
  {
   "cell_type": "code",
   "execution_count": null,
   "metadata": {
    "collapsed": true
   },
   "outputs": [],
   "source": []
  }
 ],
 "metadata": {
  "kernelspec": {
   "display_name": "Python 2",
   "language": "python",
   "name": "python2"
  },
  "language_info": {
   "codemirror_mode": {
    "name": "ipython",
    "version": 2
   },
   "file_extension": ".py",
   "mimetype": "text/x-python",
   "name": "python",
   "nbconvert_exporter": "python",
   "pygments_lexer": "ipython2",
   "version": "2.7.12"
  }
 },
 "nbformat": 4,
 "nbformat_minor": 0
}
